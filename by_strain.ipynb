{
 "cells": [
  {
   "cell_type": "code",
   "execution_count": 1,
   "id": "4eb1b99e-fe90-4350-849e-9adf5f52a631",
   "metadata": {},
   "outputs": [
    {
     "data": {
      "text/plain": [
       "0       Wildtype (Jan 2020 - Nov 2020)\n",
       "1          Alpha (Dec 2020 - Jan 2021)\n",
       "2       Wildtype (Jan 2020 - Nov 2020)\n",
       "3       Wildtype (Jan 2020 - Nov 2020)\n",
       "4       Wildtype (Jan 2020 - Nov 2020)\n",
       "                     ...              \n",
       "2723    Wildtype (Jan 2020 - Nov 2020)\n",
       "2724    Wildtype (Jan 2020 - Nov 2020)\n",
       "2725    Wildtype (Jan 2020 - Nov 2020)\n",
       "2726       Alpha (Dec 2020 - Jan 2021)\n",
       "2727      Delta (July 2021 - Nov 2021)\n",
       "Name: strain_period, Length: 2728, dtype: object"
      ]
     },
     "execution_count": 1,
     "metadata": {},
     "output_type": "execute_result"
    }
   ],
   "source": [
    "import pandas as pd\n",
    "\n",
    "df = pd.read_csv('imputed.csv')\n",
    "df['strain_period']"
   ]
  },
  {
   "cell_type": "code",
   "execution_count": 2,
   "id": "cbe0f138-d099-4fba-be4c-950a649c7224",
   "metadata": {},
   "outputs": [
    {
     "name": "stdout",
     "output_type": "stream",
     "text": [
      "Saved 228 rows to imputed strain_Alpha (Dec 2020 - Jan 2021).csv\n",
      "Saved 432 rows to imputed strain_Delta (July 2021 - Nov 2021).csv\n",
      "Saved 157 rows to imputed strain_Later Omicron (BA.4, BA.5, XBB, July 2022+).csv\n",
      "Saved 297 rows to imputed strain_Omicron (Dec 2021 - June 2022).csv\n",
      "Saved 1614 rows to imputed strain_Wildtype (Jan 2020 - Nov 2020).csv\n"
     ]
    }
   ],
   "source": [
    "df = pd.read_csv(\"imputed.csv\")\n",
    "for period in sorted(df['strain_period'].unique()):\n",
    "    df_sub = df[df['strain_period'] == period]\n",
    "    fname = f\"imputed strain_{period}.csv\"\n",
    "    df_sub.to_csv(fname, index=False)\n",
    "    print(f\"Saved {len(df_sub)} rows to {fname}\")"
   ]
  },
  {
   "cell_type": "code",
   "execution_count": 20,
   "id": "41aa224d-a2e9-4ad4-8001-95fc2d754931",
   "metadata": {},
   "outputs": [
    {
     "name": "stdout",
     "output_type": "stream",
     "text": [
      "                                             Group    N Age, mean (SD)  Male, n (%) bad_hosp_dispo Inflam, n (%) Stroke, n (%)     MUSCC   dementia       psych   headache       TBI       TME  movement     BSTUM      Cord opthalmology   seizures dysautonomia      pain\n",
      "                                               All 2728    53.2 (17.6) 1468 (53.8%)   1777 (65.1%)     65 (2.4%)    207 (7.6%) 69 (2.5%) 119 (4.4%) 444 (16.3%) 195 (7.1%) 29 (1.1%) 14 (0.5%) 23 (0.8%) 22 (0.8%) 23 (0.8%)     5 (0.2%) 117 (4.3%)    27 (1.0%) 80 (2.9%)\n",
      "                Period Alpha (Dec 2020 - Jan 2021)  228    51.7 (16.6)  137 (60.1%)    109 (47.8%)      6 (2.6%)     17 (7.5%) 10 (4.4%)  14 (6.1%)  42 (18.4%) 33 (14.5%)  2 (0.9%)  1 (0.4%)  4 (1.8%)  6 (2.6%)  3 (1.3%)     1 (0.4%)  15 (6.6%)     2 (0.9%)  8 (3.5%)\n",
      "               Period Delta (July 2021 - Nov 2021)  432    58.2 (17.2)  216 (50.0%)    426 (98.6%)     20 (4.6%)    63 (14.6%)  9 (2.1%)  32 (7.4%)  51 (11.8%)  21 (4.9%)  4 (0.9%)  2 (0.5%)  3 (0.7%)  4 (0.9%)  3 (0.7%)     1 (0.2%)  28 (6.5%)     3 (0.7%)  4 (0.9%)\n",
      "Period Later Omicron (BA.4, BA.5, XBB, July 2022+)  157    50.5 (18.5)   86 (54.8%)     63 (40.1%)      4 (2.5%)     11 (7.0%)  3 (1.9%)   2 (1.3%)    8 (5.1%)  14 (8.9%)  0 (0.0%)  0 (0.0%)  0 (0.0%)  1 (0.6%)  4 (2.5%)     0 (0.0%)   8 (5.1%)     1 (0.6%)  3 (1.9%)\n",
      "             Period Omicron (Dec 2021 - June 2022)  297    57.4 (18.1)  163 (54.9%)    252 (84.8%)     15 (5.1%)     13 (4.4%)  6 (2.0%)   8 (2.7%)   27 (9.1%)  20 (6.7%)  3 (1.0%)  1 (0.3%)  3 (1.0%)  3 (1.0%)  1 (0.3%)     1 (0.3%)  18 (6.1%)     0 (0.0%)  5 (1.7%)\n",
      "             Period Wildtype (Jan 2020 - Nov 2020) 1614    51.5 (17.3)  866 (53.7%)    927 (57.4%)     20 (1.2%)    103 (6.4%) 41 (2.5%)  63 (3.9%) 316 (19.6%) 107 (6.6%) 20 (1.2%) 10 (0.6%) 13 (0.8%)  8 (0.5%) 12 (0.7%)     2 (0.1%)  48 (3.0%)    21 (1.3%) 60 (3.7%)\n",
      "                                        P-Value X2                 NaN          NaN            NaN           NaN           NaN       NaN        NaN         NaN        NaN       NaN       NaN       NaN       NaN       NaN          NaN        NaN          NaN       NaN\n"
     ]
    },
    {
     "name": "stderr",
     "output_type": "stream",
     "text": [
      "C:\\Users\\BABELS01\\AppData\\Local\\Temp\\ipykernel_12296\\1513327492.py:57: FutureWarning: The frame.append method is deprecated and will be removed from pandas in a future version. Use pandas.concat instead.\n",
      "  summary = summary.append({\n"
     ]
    }
   ],
   "source": [
    "import pandas as pd\n",
    "import numpy as np\n",
    "from scipy import stats\n",
    "\n",
    "def n_pcts(s):\n",
    "    n = int(s.sum())\n",
    "    pct = 100*n/len(s) if len(s)>0 else np.nan\n",
    "    return f\"{n} ({pct:.1f}%)\"\n",
    "\n",
    "groups = [('All', df)] + [\n",
    "    (f\"Period {p}\", df[df['strain_period']==p])\n",
    "    for p in sorted(df['strain_period'].dropna().unique())\n",
    "]\n",
    "\n",
    "rows = []\n",
    "for name, sub in groups:\n",
    "    age_mean, age_std = sub['age'].mean(), sub['age'].std()\n",
    "    male = (sub['sex']=='M') if sub['sex'].dtype == object else (sub['sex']==1)\n",
    "    rows.append({\n",
    "        'Group': name,\n",
    "        'N': len(sub),\n",
    "        'Age, mean (SD)': f'{age_mean:.1f} ({age_std:.1f})',\n",
    "        'Male, n (%)': n_pcts(male),\n",
    "        'bad_hosp_dispo': n_pcts(sub['hosp_dispo_category']),\n",
    "        'Inflam, n (%)': n_pcts(sub['com_neuro_inflam']),\n",
    "        'Stroke, n (%)': n_pcts(sub['com_neuro_strok']),\n",
    "        'MUSCC': n_pcts(sub['com_neuro_musc']),\n",
    "        'dementia': n_pcts(sub['com_neuro_dem']),\n",
    "        'psych': n_pcts(sub['com_neuro_psych']),\n",
    "        'headache': n_pcts(sub['com_neuro_ha']),\n",
    "        'TBI': n_pcts(sub['com_neuro_tbi']),\n",
    "        'TME': n_pcts(sub['com_neuro_tme']),\n",
    "        'movement': n_pcts(sub['com_neuro_move']),\n",
    "        'BSTUM': n_pcts(sub['com_neuro_bstum']),\n",
    "        'Cord': n_pcts(sub['com_neuro_cord']),\n",
    "        'opthalmology': n_pcts(sub['com_neuro_opth']),\n",
    "        'seizures': n_pcts(sub['com_neuro_sz']),\n",
    "        'dysautonomia': n_pcts(sub['com_neuro_dysau']),\n",
    "        'pain': n_pcts(sub['com_neuro_pain']),\n",
    "        \n",
    "    })\n",
    "    \n",
    "summary = pd.DataFrame(rows)\n",
    "\n",
    "df2 = df.dropna(subset=['strain_period'])\n",
    "periods = df2['strain_period'].dropna().unique()\n",
    "\n",
    "def chi_p(col):\n",
    "    table = pd.crosstab(df2['strain_period'], df2[col])\n",
    "    chi2, p, _, _ = stats.chi2_contingency(table)\n",
    "    return p\n",
    "\n",
    "# mort_p = chi_p('mortality')\n",
    "infl_p = chi_p('com_neuro_inflam')\n",
    "stroke_p = chi_p('com_neuro_strok')\n",
    "\n",
    "summary = summary.append({\n",
    "    'Group': 'P-Value X2',\n",
    "    'N': '',\n",
    "}, ignore_index=True)\n",
    "\n",
    "print(summary.to_string(index=False))"
   ]
  },
  {
   "cell_type": "code",
   "execution_count": 25,
   "id": "1091b209-cff3-407d-941d-8573ba48cb73",
   "metadata": {},
   "outputs": [
    {
     "data": {
      "text/html": [
       "<div>\n",
       "<style scoped>\n",
       "    .dataframe tbody tr th:only-of-type {\n",
       "        vertical-align: middle;\n",
       "    }\n",
       "\n",
       "    .dataframe tbody tr th {\n",
       "        vertical-align: top;\n",
       "    }\n",
       "\n",
       "    .dataframe thead th {\n",
       "        text-align: right;\n",
       "    }\n",
       "</style>\n",
       "<table border=\"1\" class=\"dataframe\">\n",
       "  <thead>\n",
       "    <tr style=\"text-align: right;\">\n",
       "      <th></th>\n",
       "      <th>strain_period</th>\n",
       "      <th>N</th>\n",
       "      <th>n_bad</th>\n",
       "      <th>% bad</th>\n",
       "    </tr>\n",
       "  </thead>\n",
       "  <tbody>\n",
       "    <tr>\n",
       "      <th>0</th>\n",
       "      <td>Alpha (Dec 2020 - Jan 2021)</td>\n",
       "      <td>76</td>\n",
       "      <td>33</td>\n",
       "      <td>43.4%</td>\n",
       "    </tr>\n",
       "    <tr>\n",
       "      <th>1</th>\n",
       "      <td>Delta (July 2021 - Nov 2021)</td>\n",
       "      <td>303</td>\n",
       "      <td>123</td>\n",
       "      <td>40.6%</td>\n",
       "    </tr>\n",
       "    <tr>\n",
       "      <th>2</th>\n",
       "      <td>Later Omicron (BA.4, BA.5, XBB, July 2022+)</td>\n",
       "      <td>44</td>\n",
       "      <td>19</td>\n",
       "      <td>43.2%</td>\n",
       "    </tr>\n",
       "    <tr>\n",
       "      <th>3</th>\n",
       "      <td>Omicron (Dec 2021 - June 2022)</td>\n",
       "      <td>199</td>\n",
       "      <td>53</td>\n",
       "      <td>26.6%</td>\n",
       "    </tr>\n",
       "    <tr>\n",
       "      <th>4</th>\n",
       "      <td>Wildtype (Jan 2020 - Nov 2020)</td>\n",
       "      <td>642</td>\n",
       "      <td>285</td>\n",
       "      <td>44.4%</td>\n",
       "    </tr>\n",
       "  </tbody>\n",
       "</table>\n",
       "</div>"
      ],
      "text/plain": [
       "                                 strain_period    N  n_bad  % bad\n",
       "0                  Alpha (Dec 2020 - Jan 2021)   76     33  43.4%\n",
       "1                 Delta (July 2021 - Nov 2021)  303    123  40.6%\n",
       "2  Later Omicron (BA.4, BA.5, XBB, July 2022+)   44     19  43.2%\n",
       "3               Omicron (Dec 2021 - June 2022)  199     53  26.6%\n",
       "4               Wildtype (Jan 2020 - Nov 2020)  642    285  44.4%"
      ]
     },
     "execution_count": 25,
     "metadata": {},
     "output_type": "execute_result"
    }
   ],
   "source": [
    "sub = df.dropna(subset=['strain_period', 'hosp_dispo_category'])\n",
    "grp = sub.groupby('strain_period')\n",
    "rows = []\n",
    "for period, g in grp:\n",
    "    total = len(g)\n",
    "    bad = int((g['hosp_dispo_category'] == 2).sum())\n",
    "    pct = 100 * bad / total if total>0 else np.nan\n",
    "    rows.append({\n",
    "        'strain_period': period,\n",
    "        'N': total,\n",
    "        'n_bad': bad,\n",
    "        '% bad': f\"{pct:.1f}%\"\n",
    "    })\n",
    "    \n",
    "pd.DataFrame(rows).sort_values('strain_period')"
   ]
  }
 ],
 "metadata": {
  "kernelspec": {
   "display_name": "Python 3 (ipykernel)",
   "language": "python",
   "name": "python3"
  },
  "language_info": {
   "codemirror_mode": {
    "name": "ipython",
    "version": 3
   },
   "file_extension": ".py",
   "mimetype": "text/x-python",
   "name": "python",
   "nbconvert_exporter": "python",
   "pygments_lexer": "ipython3",
   "version": "3.9.13"
  }
 },
 "nbformat": 4,
 "nbformat_minor": 5
}
